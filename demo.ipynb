{
 "cells": [
  {
   "cell_type": "code",
   "execution_count": 20,
   "id": "549b9c20",
   "metadata": {},
   "outputs": [],
   "source": [
    "from selenium import webdriver\n",
    "from selenium.webdriver.chrome.service import Service\n",
    "from selenium.webdriver.chrome.options import Options\n",
    "from selenium.webdriver.common.by import By\n",
    "from selenium.webdriver.support.ui import WebDriverWait as WDW\n",
    "from selenium.webdriver.support import expected_conditions as EC\n",
    "from webdriver_manager.chrome import ChromeDriverManager\n",
    "from bs4 import BeautifulSoup"
   ]
  },
  {
   "cell_type": "code",
   "execution_count": 21,
   "id": "43543911",
   "metadata": {},
   "outputs": [
    {
     "name": "stdout",
     "output_type": "stream",
     "text": [
      "Setting up webdriver...\n",
      "done setting up..\n"
     ]
    }
   ],
   "source": [
    "# Setup Selenium and WebDriver\n",
    "print(\"Setting up webdriver...\")\n",
    "chrome_opt = Options()\n",
    "chrome_opt.add_argument('--headless')\n",
    "chrome_opt.add_argument('--disable-gpu')\n",
    "chrome_opt.add_argument(\n",
    "    \"user-agent=Mozilla/5.0 (Windows NT 10.0; Win64; x64) AppleWebKit/537.36 (KHTML, like Gecko) Chrome/131.0.6778.265 Safari/537.36\"\n",
    ")\n",
    "print(\"done setting up..\")"
   ]
  },
  {
   "cell_type": "code",
   "execution_count": 22,
   "id": "59e06afa",
   "metadata": {},
   "outputs": [
    {
     "name": "stdout",
     "output_type": "stream",
     "text": [
      "Installing Chrome WD\n",
      "Final Setup\n",
      "Done\n"
     ]
    }
   ],
   "source": [
    "print(\"Installing Chrome WD\")\n",
    "service = Service(ChromeDriverManager().install())\n",
    "print(\"Final Setup\")\n",
    "driver = webdriver.Chrome(service=service, options=chrome_opt)\n",
    "print(\"Done\")"
   ]
  },
  {
   "cell_type": "code",
   "execution_count": 23,
   "id": "43b15f94",
   "metadata": {},
   "outputs": [
    {
     "name": "stdout",
     "output_type": "stream",
     "text": [
      "Visting https://www.glasses.com/gl-us/eyeglasses page\n",
      "Waiting for product tiles to load\n",
      "Done...Proceed\n"
     ]
    }
   ],
   "source": [
    "url = \"https://www.glasses.com/gl-us/eyeglasses\"\n",
    "print(f\"Visting {url} page\")\n",
    "driver.get(url)\n",
    "\n",
    "# Further instruction\n",
    "try:\n",
    "    print(\"Waiting for product tiles to load\")\n",
    "    WDW(driver, 15).until(\n",
    "        EC.presence_of_element_located((By.CLASS_NAME, 'catalog-page'))\n",
    "    )\n",
    "    print(\"Done...Proceed\")\n",
    "except TimeoutError as e:\n",
    "    print(\"Waiting for product tiles to load for 30 seconds\")\n",
    "    WDW(driver, 30).until(\n",
    "        EC.presence_of_element_located((By.CLASS_NAME, 'catalog-page'))\n",
    "    )\n",
    "    print(\"Done...Proceed\")\n",
    "except Exception as e:\n",
    "    print(f\"Error waiting for {url}: {e}\")\n",
    "    driver.quit()\n",
    "    exit()\n",
    "    print(\"Closed\")"
   ]
  },
  {
   "cell_type": "code",
   "execution_count": null,
   "id": "e2878a20",
   "metadata": {},
   "outputs": [],
   "source": [
    "content = driver.page_source\n",
    "page = BeautifulSoup(content, 'html.parser')"
   ]
  },
  {
   "cell_type": "code",
   "execution_count": null,
   "id": "cb24bfb1",
   "metadata": {},
   "outputs": [
    {
     "name": "stdout",
     "output_type": "stream",
     "text": [
      "Found 26 products\n"
     ]
    }
   ],
   "source": [
    "product_tiles = page.find_all(\"a\", class_='product-tile')\n",
    "print(f\"Found {len(product_tiles)} products\")\n",
    "\n",
    "for tile in product_tiles:\n",
    "    product_info = tile.find('div', class_='product_info')\n",
    "\n",
    "    if product_info:\n",
    "        brand_tag = product_info.find('div', class_='product-brand')\n",
    "        brand = brand_tag.text if brand_tag else None # product brand\n",
    "\n",
    "        name_tag = product_info.find('div', class_='product-code')\n",
    "        name = name_tag.text if name_tag else None\n",
    "\n",
    "        # for price\n",
    "        price_cnt = product_info.find('div', class_='product-prices')\n",
    "        if price_cnt:\n",
    "            "
   ]
  },
  {
   "cell_type": "code",
   "execution_count": null,
   "id": "fdd22d25",
   "metadata": {},
   "outputs": [],
   "source": []
  },
  {
   "cell_type": "code",
   "execution_count": null,
   "id": "d7fafa38",
   "metadata": {},
   "outputs": [],
   "source": []
  }
 ],
 "metadata": {
  "kernelspec": {
   "display_name": "venv",
   "language": "python",
   "name": "python3"
  },
  "language_info": {
   "codemirror_mode": {
    "name": "ipython",
    "version": 3
   },
   "file_extension": ".py",
   "mimetype": "text/x-python",
   "name": "python",
   "nbconvert_exporter": "python",
   "pygments_lexer": "ipython3",
   "version": "3.10.10"
  }
 },
 "nbformat": 4,
 "nbformat_minor": 5
}
